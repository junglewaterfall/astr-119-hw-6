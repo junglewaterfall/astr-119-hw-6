{
 "cells": [
  {
   "cell_type": "code",
   "execution_count": 2,
   "metadata": {},
   "outputs": [],
   "source": [
    "%matplotlib inline\n",
    "import matplotlib.pyplot as plt\n",
    "import numpy as np"
   ]
  },
  {
   "cell_type": "markdown",
   "metadata": {},
   "source": [
    "# Cash-Karp RK integration for multiple coupled derivatives"
   ]
  },
  {
   "cell_type": "code",
   "execution_count": 3,
   "metadata": {},
   "outputs": [],
   "source": [
    "#define our coupled derivatives to integrate\n",
    "def dydx(x,y):\n",
    "    \n",
    "    #y is a 2 element array, with y[0] set to y & y[1] set to z\n",
    "    #declare (2-element) array for yderivs --> where dydx (deriv of y) is z, and dzdx (deriv of z, second deriv of y) is -y\n",
    "    #^ our system of equations to evolve\n",
    "    \n",
    "    y_derivs = np.zeros(2)\n",
    "    \n",
    "    #dydx = z\n",
    "    y_derivs[0] = y[1] \n",
    "    \n",
    "    #dzdx = -y\n",
    "    y_derivs[1] = -1*y[0]\n",
    "    \n",
    "    return y_derivs\n"
   ]
  },
  {
   "cell_type": "code",
   "execution_count": 4,
   "metadata": {},
   "outputs": [],
   "source": [
    "#define cash-karp multi-variable core\n",
    "def ck_mv_core(dydx, xi, yi, nv, h):\n",
    "    #def k arrays for Rk integration until 6th order accurate\n",
    "    #nv = both variables z&y at the same time\n",
    "    \n",
    "    k1 = np.zeros(nv)\n",
    "    k2 = np.zeros(nv)\n",
    "    k3 = np.zeros(nv)\n",
    "    k4 = np.zeros(nv)\n",
    "    k5 = np.zeros(nv)\n",
    "    k6 = np.zeros(nv)\n",
    "    \n",
    "    \n",
    "    #define x at one step\n",
    "#     x_ipo = xi + h\n",
    "    \n",
    "    #declare temporary y array, starting with zeros for z&y, later updated values\n",
    "    y_temp = np.zeros(nv)\n",
    "    \n",
    "    #get ci, aij, bi, bi* values\n",
    "    c2 = 1/5\n",
    "    c3 = 3/10\n",
    "    c4 = 3/5\n",
    "    c5 = 1\n",
    "    c6 = 7/8\n",
    "    \n",
    "    a21 = 1/5\n",
    "    a31 = 3/40\n",
    "    a32 = 9/40\n",
    "    a41 = 3/10\n",
    "    a42 = -9/10\n",
    "    a43 = 6/5\n",
    "    a51 = -11/54\n",
    "    a52 = 5/2\n",
    "    a53 = -70/27\n",
    "    a54 = 35/27\n",
    "    a61 = 1631/55296\n",
    "    a62 = 175/512\n",
    "    a63 = 575/13824\n",
    "    a64 = 44275/110592\n",
    "    a65 = 253/4096\n",
    "    \n",
    "    b1 = 37/378\n",
    "    b2 = 0\n",
    "    b3 = 250/621\n",
    "    b4 = 125/594\n",
    "    b5 = 0\n",
    "    b6 = 512/1771\n",
    "    \n",
    "    b11 = 2825/27648\n",
    "    b22 = 0\n",
    "    b33 = 18575/48384\n",
    "    b44 = 13525/55296\n",
    "    b55 = 277/14336\n",
    "    b66 = 1/4\n",
    "    \n",
    "    #get k1, then k2, then k3, then k4 values (refinement of grid/updated with steps)\n",
    "    #then k5, then k6, to use just those two steps, and calc error between them\n",
    "    #^ wrt to both y &z\n",
    "    #[:] = all elements in the array\n",
    "    #get k1 values\n",
    "    y_derivs = dydx(xi, yi) \n",
    "    #^deriv of y, with xi&yi\n",
    "    k1[:] = h*y_derivs[:]\n",
    "    \n",
    "    #update yi array with ytemp array, by adding refinement variables\n",
    "    #update yderivs by taking derivative of updated xi, ytemp array for nv\n",
    "    #get next k value with height*updated y derivs for refined grid for rk integration\n",
    "    y_temp[:] = yi[:] + a21*k1\n",
    "    y_derivs = dydx(xi + c2*h, y_temp)\n",
    "    k2[:] = h*y_derivs[:]\n",
    "    \n",
    "    y_temp[:] = yi[:] + a31*k1 + a32*k2\n",
    "    y_derivs = dydx(xi + c3*h, y_temp)\n",
    "    k3[:] = h*y_derivs[:]\n",
    "    \n",
    "    y_temp[:]= yi[:] + a41*k1 + a42*k2 + a43*k3\n",
    "    y_derivs = dydx(xi + c4*h, y_temp)\n",
    "    k4[:] = h*y_derivs[:]\n",
    "    \n",
    "    y_temp[:] = yi[:] + a51*k1 + a52*k2 + a53*k3 + a54*k4\n",
    "    y_derivs = dydx(xi + c5*h, y_temp)\n",
    "    k5[:] = h*y_derivs[:]\n",
    "    \n",
    "    y_temp[:] = yi[:] + a61*k1 + a62*k2 + a63*k3 + a64*k4 + a65*k5\n",
    "    y_derivs = dydx(xi + c6*h, y_temp)\n",
    "    k6[:] = h*y_derivs[:]\n",
    "    \n",
    "    #advance y by step h\n",
    "    #^equal to yi + weighted sum of all k derivatives\n",
    "    \n",
    "    yipo_6 = yi + (b1*k1 + b2*k2 + b3*k3 + b4*k4 + b5*k5 + b6*k6)\n",
    "    yipo_5 = yi + (b11*k1 + b22*k2 + b33*k3 + b44*k4 + b55*k5 + b66*k6)\n",
    "    Delta = np.fabs(yipo_6 - yipo_5)\n",
    "    return yipo_6, Delta\n",
    "    \n",
    "    "
   ]
  },
  {
   "cell_type": "code",
   "execution_count": 5,
   "metadata": {},
   "outputs": [],
   "source": [
    "#def wrapper function stepsize (adaptive step size driver for ck), to carry out the function of the ckmv core\n",
    "#^adapting size of step h based on error/tolerance between rk5 & 6 steps\n",
    "def ck_mv_ad(dydx, x_i, y_i, nv, h, tol):\n",
    "    \n",
    "    #def safety scale\n",
    "    SAFETY = 0.9\n",
    "    H_NEW_FAC = 2.0\n",
    "    \n",
    "    #set max # iterations\n",
    "    imax = 10000\n",
    "    \n",
    "    #set iterator\n",
    "    i = 0\n",
    "    \n",
    "    #error array\n",
    "    Delta = np.full(nv, 2*tol) #(while loop) starts at error above tolerance\n",
    "    \n",
    "    #remember step\n",
    "    h_step = h\n",
    "    \n",
    "    #adjust step\n",
    "    while(Delta.max()/tol>1.0):\n",
    "        #6 rk step & 5&6 rk error Delta\n",
    "        y_1, Delta = ck_mv_core(dydx, x_i, y_i, nv, h_step)\n",
    "        \n",
    "         \n",
    "        \n",
    "        #if error too large, take smaller step\n",
    "        if(Delta.max()/tol>1.0):\n",
    "            h_step*= SAFETY*(Delta.max()/tol)**(-0.25)\n",
    "            \n",
    "        #check iteration\n",
    "        if(i>=imax):\n",
    "            print(\"too many iterations in ck_mv_ad\")\n",
    "            raise StopIteration(\"ending after i=\",i)\n",
    "        \n",
    "        #iterate\n",
    "        i +=1\n",
    "        \n",
    "    #outside while loop, get next (new) step - larger\n",
    "    h_new = np.fmin(h_step*(Delta.max()/tol)**(-0.9), h_step*H_NEW_FAC)\n",
    "    \n",
    "    #return answer, a new step, and the step we took (finite different steps)\n",
    "    return y_1, h_new, h_step\n",
    "\n",
    "    "
   ]
  },
  {
   "cell_type": "code",
   "execution_count": 6,
   "metadata": {},
   "outputs": [],
   "source": [
    "#def wrapper for ck mv core\n",
    "def ck_mv(dfdx, a, b, y_a, tol):\n",
    "    #def starting step\n",
    "    xi = a\n",
    "    yi = y_a.copy() #copy y array from before\n",
    "    \n",
    "    #initial step\n",
    "    h = 1.0e-4 *(b-a)\n",
    "    \n",
    "    #set max number of iterations\n",
    "    imax = 10000\n",
    "    \n",
    "    #set iteration variable\n",
    "    i = 0\n",
    "    \n",
    "    #set number coupled odes as nv (variables z&y at the same time - via the use of y_a - copy of previous 2-element yi array)\n",
    "    nv = len(y_a)\n",
    "    \n",
    "    #set initial conditions\n",
    "    x = np.full(1,a)\n",
    "    y = np.full((1,nv), y_a)\n",
    "    \n",
    "    #set flag\n",
    "    flag = 1\n",
    "    #loop until we reach the right side\n",
    "    while(flag):\n",
    "        #calc y_1, or run the ckmv core\n",
    "        y_1, h_new, h_step = ck_mv_ad(dydx, xi, yi, nv, h, tol)\n",
    "        #update step, based on adaptive stepsize driver ck_mv_ad - while loop part\n",
    "        h = h_new\n",
    "        \n",
    "        #prevent an overshoot\n",
    "        if(xi+h_step>b):\n",
    "            #if xi+step greater than upper limit, take a smaller step\n",
    "            h = b-xi\n",
    "            \n",
    "            #recalculate y_ipo\n",
    "            y_1, h_new, h_step = ck_mv_ad(dydx, xi, yi, nv, h, tol)\n",
    "            \n",
    "            #break from while loop\n",
    "            flag = 0\n",
    "        \n",
    "        #update values\n",
    "        xi += h_step\n",
    "        \n",
    "        yi[:] = y_1[:]\n",
    "        \n",
    "        #add step to the arrays\n",
    "        x = np.append(x, xi)\n",
    "        #append yi to the end, delete old y, save ynew into y\n",
    "        y_1 = np.zeros((len(x), nv))\n",
    "        y_1[0:len(x)-1, :] = y\n",
    "        y_1[-1,:] = yi[:]\n",
    "        del y\n",
    "        \n",
    "        y = y_1\n",
    "        \n",
    "        #prevent too many iterations\n",
    "        if(i>=imax):\n",
    "            print(\"max iterations reached\")\n",
    "            raise StopIteration(\"iteration # =\",i)\n",
    "            \n",
    "        #iterate\n",
    "        i += 1\n",
    "        \n",
    "        #print out some info\n",
    "        s = \"i = %3d\\tx = %9.8f\\ty = %9.8f\\th = %9.8f\\tb = %9.8f\" % (i, xi, yi[0], h_step, b)\n",
    "        print(s)\n",
    "        \n",
    "        #break if xi = b\n",
    "        if (xi==b):\n",
    "            flag = 0\n",
    "    #outside while loop, return the answer (evolved x&y values)\n",
    "    return x,y"
   ]
  },
  {
   "cell_type": "code",
   "execution_count": 7,
   "metadata": {},
   "outputs": [
    {
     "name": "stdout",
     "output_type": "stream",
     "text": [
      "i =   1\tx = 0.00062832\ty = 0.00062832\th = 0.00062832\tb = 6.28318531\n",
      "i =   2\tx = 0.00188496\ty = 0.00188495\th = 0.00125664\tb = 6.28318531\n",
      "i =   3\tx = 0.00439823\ty = 0.00439822\th = 0.00251327\tb = 6.28318531\n",
      "i =   4\tx = 0.00942478\ty = 0.00942464\th = 0.00502655\tb = 6.28318531\n",
      "i =   5\tx = 0.01947787\ty = 0.01947664\th = 0.01005310\tb = 6.28318531\n",
      "i =   6\tx = 0.03958407\ty = 0.03957373\th = 0.02010619\tb = 6.28318531\n",
      "i =   7\tx = 0.07979645\ty = 0.07971180\th = 0.04021239\tb = 6.28318531\n",
      "i =   8\tx = 0.16022123\ty = 0.15953660\th = 0.08042477\tb = 6.28318531\n",
      "i =   9\tx = 0.32107077\ty = 0.31558279\th = 0.16084954\tb = 6.28318531\n",
      "i =  10\tx = 0.64276986\ty = 0.59941495\th = 0.32169909\tb = 6.28318531\n",
      "i =  11\tx = 0.93739384\ty = 0.80601851\th = 0.29462398\tb = 6.28318531\n",
      "i =  12\tx = 1.20675386\ty = 0.93446544\th = 0.26936002\tb = 6.28318531\n",
      "i =  13\tx = 1.49426997\ty = 0.99707369\th = 0.28751611\tb = 6.28318531\n",
      "i =  14\tx = 1.76344767\ty = 0.98150050\th = 0.26917769\tb = 6.28318531\n",
      "i =  15\tx = 2.03076151\ty = 0.89606839\th = 0.26731385\tb = 6.28318531\n",
      "i =  16\tx = 2.29758389\ty = 0.74731321\th = 0.26682237\tb = 6.28318531\n",
      "i =  17\tx = 2.56844699\ty = 0.54227799\th = 0.27086310\tb = 6.28318531\n",
      "i =  18\tx = 2.84768738\ty = 0.28969237\th = 0.27924039\tb = 6.28318531\n",
      "i =  19\tx = 3.12869484\ty = 0.01289739\th = 0.28100745\tb = 6.28318531\n",
      "i =  20\tx = 3.39732623\ty = -0.25295549\th = 0.26863139\tb = 6.28318531\n",
      "i =  21\tx = 3.66411066\ty = -0.49906425\th = 0.26678443\tb = 6.28318531\n",
      "i =  22\tx = 3.93155133\ty = -0.71032491\th = 0.26744067\tb = 6.28318531\n",
      "i =  23\tx = 4.20391433\ty = -0.87348904\th = 0.27236300\tb = 6.28318531\n",
      "i =  24\tx = 4.48601277\ty = -0.97448720\th = 0.28209844\tb = 6.28318531\n",
      "i =  25\tx = 4.76275451\ty = -0.99873304\th = 0.27674175\tb = 6.28318531\n",
      "i =  26\tx = 5.03073667\ty = -0.94975497\th = 0.26798215\tb = 6.28318531\n",
      "i =  27\tx = 5.29729916\ty = -0.83376264\th = 0.26656249\tb = 6.28318531\n",
      "i =  28\tx = 5.56553774\ty = -0.65761502\th = 0.26823858\tb = 6.28318531\n",
      "i =  29\tx = 5.83966631\ty = -0.42912109\th = 0.27412857\tb = 6.28318531\n",
      "i =  30\tx = 6.12503238\ty = -0.15749453\th = 0.28536607\tb = 6.28318531\n",
      "i =  31\tx = 6.28318531\ty = 0.00000015\th = 0.15815293\tb = 6.28318531\n"
     ]
    },
    {
     "name": "stderr",
     "output_type": "stream",
     "text": [
      "<ipython-input-5-3c1f079e20e5>:41: RuntimeWarning: divide by zero encountered in double_scalars\n",
      "  h_new = np.fmin(h_step*(Delta.max()/tol)**(-0.9), h_step*H_NEW_FAC)\n"
     ]
    }
   ],
   "source": [
    "#perform the ck integration for the 2 coupled derivatives\n",
    "\n",
    "#bounds (0, 2pi)\n",
    "a = 0.0\n",
    "b = 2.0*np.pi\n",
    "\n",
    "#y array\n",
    "y_0 = np.zeros(2)\n",
    "y_0[0] = 0.0 #initially, y(x=0) = 0 = y[0]\n",
    "y_0[1] = 1.0 #initially, dydx(x=0) = 1 = z = y[1]\n",
    "\n",
    "#variables to integrate, z&y\n",
    "nv = 2\n",
    "tolerance = 1.0e-6\n",
    "\n",
    "#perform integration analytically\n",
    "x,y = ck_mv(dydx, a, b, y_0, tolerance)"
   ]
  },
  {
   "cell_type": "code",
   "execution_count": 8,
   "metadata": {},
   "outputs": [
    {
     "data": {
      "text/plain": [
       "<matplotlib.legend.Legend at 0x27781223fd0>"
      ]
     },
     "execution_count": 8,
     "metadata": {},
     "output_type": "execute_result"
    },
    {
     "data": {
      "image/png": "[encoded data removed]",
      "text/plain": [
       "<Figure size 432x288 with 1 Axes>"
      ]
     },
     "metadata": {
      "needs_background": "light"
     },
     "output_type": "display_data"
    }
   ],
   "source": [
    "#plot analytical result of x,y against sinx&cosx\n",
    "plt.plot(x,y[:,0], 'o', label='y(x)')\n",
    "plt.plot(x,y[:,1], 'o', label='dydx(x)')\n",
    "xx = np.linspace(0,2.0*np.pi,1000)\n",
    "plt.plot(xx, np.sin(xx), label='sin(x)')\n",
    "plt.plot(xx, np.cos(xx), label='cos(x)')\n",
    "plt.xlabel('x')\n",
    "plt.ylabel('y, dy/dx')\n",
    "plt.legend(frameon=False)"
   ]
  },
  {
   "cell_type": "code",
   "execution_count": 9,
   "metadata": {},
   "outputs": [
    {
     "data": {
      "text/plain": [
       "<matplotlib.legend.Legend at 0x2778338f1c0>"
      ]
     },
     "execution_count": 9,
     "metadata": {},
     "output_type": "execute_result"
    },
    {
     "data": {
      "image/png": "[encoded data removed]",
      "text/plain": [
       "<Figure size 432x288 with 1 Axes>"
      ]
     },
     "metadata": {
      "needs_background": "light"
     },
     "output_type": "display_data"
    }
   ],
   "source": [
    "#plot the error\n",
    "sine = np.sin(x)\n",
    "cosine = np.cos(x)\n",
    "\n",
    "y_error = (y[:,0]-sine)\n",
    "dydx_error = (y[:,1]-cosine)\n",
    "\n",
    "plt.plot(x, y_error, label=\"y(x) error\")\n",
    "plt.plot(x, dydx_error, label=\"dydx(x) error\")\n",
    "plt.legend(frameon=False)"
   ]
  },
  {
   "cell_type": "code",
   "execution_count": null,
   "metadata": {},
   "outputs": [],
   "source": []
  }
 ],
 "metadata": {
  "kernelspec": {
   "display_name": "Python 3",
   "language": "python",
   "name": "python3"
  },
  "language_info": {
   "codemirror_mode": {
    "name": "ipython",
    "version": 3
   },
   "file_extension": ".py",
   "mimetype": "text/x-python",
   "name": "python",
   "nbconvert_exporter": "python",
   "pygments_lexer": "ipython3",
   "version": "3.8.6"
  }
 },
 "nbformat": 4,
 "nbformat_minor": 4
}
